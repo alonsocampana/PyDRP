{
 "cells": [
  {
   "cell_type": "code",
   "execution_count": 1,
   "id": "83fd5a43-a5e3-4ef2-bf49-d5d74b4d0ba1",
   "metadata": {},
   "outputs": [],
   "source": [
    "from PyDRP.Benchmarks import BenchCanc\n",
    "import os\n",
    "from torch import nn\n",
    "import torch\n",
    "import torch_geometric\n",
    "import numpy as np"
   ]
  },
  {
   "cell_type": "code",
   "execution_count": 2,
   "id": "289261c3-e349-4325-b01c-9e33268ed245",
   "metadata": {},
   "outputs": [],
   "source": [
    "# Defining a \"Dummy model class\" that returns the output multiplied by a scalar\n",
    "class DummyClass(nn.Module):\n",
    "    def __init__(self, *args, **kwargs):\n",
    "        super().__init__()\n",
    "        self.lin = nn.Linear(1, 1)\n",
    "    def forward(self, data):\n",
    "        return self.lin(data[\"y\"])"
   ]
  },
  {
   "cell_type": "code",
   "execution_count": 3,
   "id": "2576f8ec-0d0c-4c9f-8a8a-2b6df4d8b7c4",
   "metadata": {},
   "outputs": [],
   "source": [
    "# Defining the configuration\n",
    "config = {\"optimizer\":{\"batch_size\":256,\n",
    "                        \"learning_rate\":0.001,\n",
    "                         \"max_epochs\":2,\n",
    "                         \"patience\":10,\n",
    "                         \"kwargs\":{},\n",
    "                         \"clip_norm\":1,},\n",
    "            \"env\":{\"device\":\"cuda:7\",\n",
    "                   \"mixed_precision\":True},\n",
    "            \"model\":{}}"
   ]
  },
  {
   "cell_type": "code",
   "execution_count": 4,
   "id": "8d2c134f-e034-4b0a-919d-409bdf6731c3",
   "metadata": {},
   "outputs": [],
   "source": [
    "# Instantiating the benchmark\n",
    "n_folds = 3\n",
    "benchmark = BenchCanc(config = config,\n",
    "                        n_folds=n_folds,\n",
    "                        dataset = \"GDSC1\", \n",
    "                        line_features=\"expression+mutations+cnv\")"
   ]
  },
  {
   "cell_type": "code",
   "execution_count": 5,
   "id": "862ba867-feb4-4245-9420-a1934b92a967",
   "metadata": {},
   "outputs": [
    {
     "name": "stdout",
     "output_type": "stream",
     "text": [
      "fold 0\n",
      "epoch : 0, test_metrics: {'MeanSquaredError': 9.587281227111816, 'R_cellwise': -0.9999995827674866, 'R_cellwise_residuals': -0.9999978542327881}\n",
      "epoch : 1, test_metrics: {'MeanSquaredError': 1.7074977159500122, 'R_cellwise': 1.0, 'R_cellwise_residuals': 0.9999994039535522}\n",
      "fold 1\n",
      "epoch : 0, test_metrics: {'MeanSquaredError': 14.385035514831543, 'R_cellwise': -1.0, 'R_cellwise_residuals': -0.9999997019767761}\n",
      "epoch : 1, test_metrics: {'MeanSquaredError': 2.952277660369873, 'R_cellwise': 0.9999998807907104, 'R_cellwise_residuals': 0.9999992847442627}\n",
      "fold 2\n",
      "epoch : 0, test_metrics: {'MeanSquaredError': 0.19636879861354828, 'R_cellwise': 1.0, 'R_cellwise_residuals': 0.9999995827674866}\n",
      "epoch : 1, test_metrics: {'MeanSquaredError': 6.656610639765859e-05, 'R_cellwise': 1.0, 'R_cellwise_residuals': 0.9999995827674866}\n",
      " MSE: 1.5532807111740112 +- 0.6986852480280793\n"
     ]
    }
   ],
   "source": [
    "# Instantiating the model at each fold and passing it to the train_model method \n",
    "performance = []\n",
    "for i in range(n_folds):\n",
    "    print(f\"fold {i}\")\n",
    "    model =  DummyClass()\n",
    "    _, _, test_metrics = benchmark.train_model(model, fold=i)\n",
    "    performance += [test_metrics.compute()[\"MeanSquaredError\"].cpu().detach().numpy()]\n",
    "    \n",
    "print(f\" MSE: {np.mean(performance)} +- {np.std(performance)/np.sqrt(n_folds)}\")"
   ]
  }
 ],
 "metadata": {
  "kernelspec": {
   "display_name": "Python 3 (ipykernel)",
   "language": "python",
   "name": "python3"
  },
  "language_info": {
   "codemirror_mode": {
    "name": "ipython",
    "version": 3
   },
   "file_extension": ".py",
   "mimetype": "text/x-python",
   "name": "python",
   "nbconvert_exporter": "python",
   "pygments_lexer": "ipython3",
   "version": "3.9.12"
  }
 },
 "nbformat": 4,
 "nbformat_minor": 5
}
